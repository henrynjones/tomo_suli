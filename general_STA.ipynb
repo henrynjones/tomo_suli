{
 "cells": [
  {
   "cell_type": "markdown",
   "id": "04ee6e40-04ef-4e14-8b74-6883e689cd9a",
   "metadata": {},
   "source": [
    "### Subtomogram Alignment and Averaging"
   ]
  },
  {
   "cell_type": "code",
   "execution_count": null,
   "id": "1b2489a2-c485-4611-b863-4b2a83e0bb11",
   "metadata": {
    "tags": []
   },
   "outputs": [],
   "source": [
    "import numpy as np\n",
    "import torch\n",
    "import scipy\n",
    "import mrcfile\n",
    "import matplotlib.pyplot as plt"
   ]
  },
  {
   "cell_type": "code",
   "execution_count": 2,
   "id": "eb51abcd-ea13-4355-be0b-f5e456e9037a",
   "metadata": {},
   "outputs": [],
   "source": [
    "\n",
    "volumes = '/Users/HenryJones/Desktop/SULI/noisefree_full_rec.mrc'\n",
    "coordinates = '/Users/HenryJones/Desktop/SULI/ribo_coordinates.txt'\n",
    "volume = torch.tensor(mrcfile.read(volumes))\n",
    "#coordinates are output centered in nm before magnification\n",
    "coords = torch.Tensor(np.genfromtxt(coordinates, skip_header = 2))"
   ]
  },
  {
   "cell_type": "code",
   "execution_count": null,
   "id": "f616edfb",
   "metadata": {},
   "outputs": [],
   "source": [
    "print(volume.shape)\n",
    "#should be z, y, x?\n",
    "#noisefree is x, z, y\n",
    "volume = volume.permute(1,0,2)"
   ]
  },
  {
   "cell_type": "code",
   "execution_count": null,
   "id": "a4f22139",
   "metadata": {},
   "outputs": [],
   "source": [
    "print(volume.shape)"
   ]
  },
  {
   "cell_type": "markdown",
   "id": "9a585137",
   "metadata": {},
   "source": [
    "## For some reason there seems to be a mismatch between tilt axis and y axis.\n",
    "Ensure that the tomogram has orientation z, x, y, ie that you see the missing wedge with fft(volume[:,volume.shape[1]//2,:])"
   ]
  },
  {
   "cell_type": "code",
   "execution_count": null,
   "id": "34af9916",
   "metadata": {},
   "outputs": [],
   "source": [
    "plt.imshow(torch.abs(torch.fft.fftshift(torch.fft.fft2(volume[:,1000,:]))), vmax = 10000)\n",
    "plt.show()\n",
    "plt.imshow(torch.abs(torch.fft.fftshift(torch.fft.fft2(volume[:,:,1000]))), vmax = 10000)\n"
   ]
  },
  {
   "cell_type": "code",
   "execution_count": 7,
   "id": "815a25ad-2d8d-4004-aaca-8a3c05ca0465",
   "metadata": {
    "tags": []
   },
   "outputs": [],
   "source": [
    "#make our rotation matrix\n",
    "def angles_to_matrix(angles: torch.Tensor)-> torch.Tensor:\n",
    "    assert angles.shape[0] == 3\n",
    "    phi   = angles[0] * torch.pi / 180\n",
    "    theta = angles[1] * torch.pi / 180\n",
    "    psi   = angles[2] * torch.pi / 180\n",
    "    \n",
    "    sinphi = torch.sin(phi)\n",
    "    cosphi = torch.cos(phi)\n",
    "    \n",
    "    sintheta = torch.sin(theta)\n",
    "    costheta = torch.cos(theta)\n",
    "    \n",
    "    sinpsi = torch.sin(psi)\n",
    "    cospsi = torch.cos(psi)\n",
    "    \n",
    "    r_mat = torch.Tensor([[cospsi * cosphi - (sinpsi * costheta * sinphi), \n",
    "                            - (cospsi * sinphi) - (sinpsi * costheta * cosphi),\n",
    "                            sinpsi * sintheta],\n",
    "                           [(sinpsi * cosphi) + (cospsi * costheta * sinphi),\n",
    "                            -(sinpsi * sinphi) + (cospsi * costheta * cosphi),\n",
    "                            - (cospsi * sintheta)],\n",
    "                           [sintheta * sinphi, sintheta * cosphi, costheta]])\n",
    "    return r_mat"
   ]
  },
  {
   "cell_type": "code",
   "execution_count": null,
   "id": "a8930037-10b5-4424-ba28-cd94d81a6808",
   "metadata": {
    "tags": []
   },
   "outputs": [],
   "source": [
    "def check_transpose(in_tensor: torch.Tensor, correct_shape: torch.Size):\n",
    "    if in_tensor.shape != correct_shape:\n",
    "        return torch.transpose(in_tensor, 0, 1)\n",
    "    return in_tensor\n",
    "\n",
    "\n",
    "def pick_particles(coords: torch.Tensor):\n",
    "    #fits in in the detector\n",
    "    first_mask = coords[((torch.abs(coords[:,0]) + ribosome_diameter) * factor <= correct_size[2]/2) \\\n",
    "                        & ((torch.abs(coords[:,1]) + ribosome_diameter) * factor <= correct_size[1]/2)\\\n",
    "                       & ((torch.abs(coords[:,2]) * z_factor) <= correct_size[0]/2)] #radius for the z axis\n",
    "    second = first_mask[torch.sqrt(first_mask[:,0] **2 + first_mask[:,1] **2) < 600 -  ribosome_diameter]\n",
    "    upper_distance_matrix = torch.triu(torch.cdist(second[:,:3], second[:,:3], p=2) > ribosome_diameter)\n",
    "    final_mask = ((upper_distance_matrix + torch.transpose(upper_distance_matrix, 0, 1)).sum(dim = 0) == upper_distance_matrix.shape[0]-1)\n",
    "    coords = second[final_mask]\n",
    "    return coords\n",
    "\n",
    "def new_extract_subtomos(volume: torch.Tensor, picked_coordinates: torch.Tensor):\n",
    "    tensor_of_subtomos = np.empty(shape = int(picked_coordinates.shape[0]), dtype = object)\n",
    "    tensor_of_coords = torch.empty(size = (int(picked_coordinates.shape[0]),3))\n",
    "    #tensor_of_pixel_coords\n",
    "    for particle in range(int(picked_coordinates.shape[0])):\n",
    "        pixel_coord_float = torch.Tensor([picked_coordinates[particle,0] * factor + volume.shape[-1]/2,\n",
    "                                          picked_coordinates[particle,1] * factor + volume.shape[-2]/2,\n",
    "                                          volume.shape[-3] - (picked_coordinates[particle,2] * z_factor + volume.shape[-3]/2)]) #reverse the order of the z axis\n",
    "                                          #picked_coordinates[particle,2] * z_factor + volume.shape[-3]/2])\n",
    "                                         #volume.shape[-3] - (picked_coordinates[particle,2] * z_factor + volume.shape[-3]/2)]) #reverse the order of the z axis\n",
    "        pixel_coord = torch.round(pixel_coord_float).int()\n",
    "        tensor_of_coords[particle] = pixel_coord_float\n",
    "        bounds = torch.Tensor([ [pixel_coord[2] - ribo_pixel_radius,   pixel_coord[2] + ribo_pixel_radius],\n",
    "                                [pixel_coord[1] - ribo_pixel_diameter, pixel_coord[1] + ribo_pixel_diameter],\n",
    "                                [pixel_coord[0] - ribo_pixel_diameter, pixel_coord[0] + ribo_pixel_diameter]]).int()\n",
    "\n",
    "        #in theory our particle picking should prevent having to use these bounds\n",
    "        below = torch.tensor(torch.where(bounds < 0, 1, 0))\n",
    "\n",
    "        above = torch.tensor(torch.where(bounds > torch.stack([torch.tensor(volume.shape),\n",
    "                                                  torch.tensor(volume.shape)]).T, 1, 0))\n",
    "        old_bounds = torch.abs(bounds * (below + above)) # element wise multiplication of EITHER mask, but will always be one or the other\n",
    "        \n",
    "        #for slicing we need to adjust\n",
    "        bounds[(bounds < 0)] = 0\n",
    "        bounds[0,1][bounds[0,1] > volume.shape[0]] = volume.shape[0]\n",
    "        \n",
    "        #extract subtomo\n",
    "        tensor_of_subtomos[particle] = volume[int(bounds[0,0]) : int(bounds[0,1]) + 1,\n",
    "                                              int(bounds[1,0]) : int(bounds[1,1]) + 1,\n",
    "                                              int(bounds[2,0]) : int(bounds[2,1]) + 1]\n",
    "        \n",
    "        #pad z dimension if particle is within particle radius of volume face.\n",
    "        tensor_of_subtomos[particle] = torch.nn.functional.pad(tensor_of_subtomos[particle],\n",
    "                                                               (0,0,0,0, # by our selection we don't need x and y padding\n",
    "                                                                old_bounds[0,0], #low z padding\n",
    "                                                                old_bounds[0,1]), #high z padding\n",
    "                                                               mode = 'constant')\n",
    "        if particle % 5 ==0:\n",
    "            plt.imshow(tensor_of_subtomos[particle][tensor_of_subtomos[particle].shape[0]//2,:,:])\n",
    "            plt.show()\n",
    "    return tensor_of_subtomos, tensor_of_coords\n",
    "\n",
    "def new_meshgrid(subtomo_shape: torch.Size, particle_center: torch.Tensor) -> torch.meshgrid:\n",
    "    \"\"\"\n",
    "        should only have to worry about not being centered with z axis\n",
    "        Example of particle center is \n",
    "        \n",
    "        torch.Tensor([1809.6265, 1761.0503,   54.2631])\n",
    "    \"\"\"\n",
    "\n",
    "    center_diff = particle_center - torch.round(particle_center)\n",
    "\n",
    "    x = torch.linspace(start = - ribo_pixel_diameter, end = ribo_pixel_diameter, steps = subtomo_shape[2]) + center_diff[0]\n",
    "    y = torch.linspace(start = - ribo_pixel_diameter, end = ribo_pixel_diameter, steps = subtomo_shape[1]) + center_diff[1]\n",
    "    z = torch.linspace(start = - ribo_pixel_diameter, end = ribo_pixel_diameter, steps = subtomo_shape[0]) + center_diff[2]\n",
    "    \n",
    "    return torch.meshgrid(x, y, z, indexing = 'ij'), x, y, z\n",
    "\n",
    "\n",
    "def align_and_average(new_out, picked_coords, new_pixel_coords, ribo_pixel_radius):\n",
    "\n",
    "    #loop over subtomograms, picked particle rotation angles, and updated interger pixel coordinates\n",
    "    for subtomo, angles, pixel_coord in zip(new_out, picked_coords[:,-3:], new_pixel_coords[:,:3]):\n",
    "        average_size = ribo_pixel_radius * 2 + 1\n",
    "        average = torch.zeros((average_size, average_size, average_size))\n",
    "        rmat = angles_to_matrix(angles)\n",
    "        #need to invert because the rotations have been applied to give the current orientation\n",
    "        inverse_rmat = torch.linalg.inv(rmat)\n",
    "        padded = torch.nn.functional.pad(subtomo, (0,0,0,0, ribo_pixel_radius, ribo_pixel_radius), mode = 'constant', value = 0)\n",
    "        meshgrid, x_linspace, y_linspace, z_linspace = new_meshgrid(padded.shape, pixel_coord) #picked_part[:3])\n",
    "        x = torch.flatten(meshgrid[0])\n",
    "        y = torch.flatten(meshgrid[1])\n",
    "        z = torch.flatten(meshgrid[2])\n",
    "        #before_rotation = torch.stack([x, y, z])\n",
    "        rotation = torch.matmul(inverse_rmat, torch.stack([z, y, x])) # was z,y,x before nov 8\n",
    "\n",
    "\n",
    "        in_grid_shape = torch.unflatten(rotation, dim = 1, sizes = (padded.shape[0],\n",
    "                                                        padded.shape[1],\n",
    "                                                        padded.shape[2]))[:,\n",
    "                                                                            int(padded.shape[0]/2 - ribo_pixel_radius):  int(padded.shape[0]/2 + ribo_pixel_radius) + 1, \n",
    "                                                                            int(padded.shape[1]/2 - ribo_pixel_radius):  int(padded.shape[1]/2 + ribo_pixel_radius) + 1,\n",
    "                                                                            int(padded.shape[2]/2 - ribo_pixel_radius):  int(padded.shape[2]/2 + ribo_pixel_radius) + 1]\n",
    "        data_w_coords = scipy.interpolate.RegularGridInterpolator((z_linspace.numpy(), y_linspace.numpy(), x_linspace.numpy()), padded.numpy())\n",
    "\n",
    "        #apply spherical mask, does it matter before or after interpolation and rotation?\n",
    "        mask = torch.where(torch.sqrt(in_grid_shape[0]**2 + in_grid_shape[1]**2 + in_grid_shape[2]**2) < ribo_pixel_radius, 1, 0)\n",
    "        #print(mask.shape, 'MASK SHAPE')\n",
    "        \n",
    "        interpolation = data_w_coords((in_grid_shape[0].numpy(),\n",
    "                                    in_grid_shape[1].numpy(),\n",
    "                                        in_grid_shape[2].numpy()))\n",
    "        #plt.imshow(subtomo[subtomo.shape[0]//2,:,:])\n",
    "        #plt.scatter(pixel_coord[1], pixel_coord[2])\n",
    "        #plt.show()\n",
    "        average = average + interpolation[:, :, :] * mask.numpy()\n",
    "    average /= new_out.shape[0]\n",
    "    return average\n",
    "\n",
    "\n",
    "\"\"\"\n",
    "ARGS and inputs\n",
    "\n",
    "\"\"\"\n",
    "#80S ribosomes have diameters up to 300-320 A which is 30-32 nm\n",
    "#We know our tem simulator uses magnification \n",
    "#750000 with detector size 16000 nm\n",
    "magnification = 75000\n",
    "detector_size_nm = 16000\n",
    "ribosome_radius = 10 # nm\n",
    "factor = magnification / detector_size_nm\n",
    "#learned this\n",
    "correct_size = volume.shape\n",
    "z_factor = (correct_size[0]/4) / 13\n",
    "\n",
    "ribosome_diameter = 2 * ribosome_radius\n",
    "ribo_pixel_radius = int(torch.round(torch.Tensor([factor * ribosome_radius])))\n",
    "ribo_pixel_diameter = 2 * ribo_pixel_radius\n",
    "print(ribo_pixel_radius, 'pixel_radius')\n",
    "print(ribosome_diameter + ribosome_radius, 'neighbor distance')\n",
    "correct_size = volume.size() #z, y, x\n",
    "\n",
    "#we only need to crop in the x and y planes\n",
    "def main():\n",
    "    picked_coords = pick_particles(coords)\n",
    "    print(\"Number of particles:\", picked_coords.shape[0])\n",
    "    subtomos, new_pixel_coords = new_extract_subtomos(volume, picked_coords)\n",
    "    return align_and_average(subtomos, picked_coords = picked_coords, new_pixel_coords=new_pixel_coords, ribo_pixel_radius= ribo_pixel_radius)\n",
    "\n",
    "average = main()"
   ]
  },
  {
   "cell_type": "markdown",
   "id": "a2921ade-7c7c-4858-986e-6348cce29e6a",
   "metadata": {},
   "source": [
    "## Image space alignment and averaging"
   ]
  },
  {
   "cell_type": "code",
   "execution_count": null,
   "id": "ab32f73d",
   "metadata": {},
   "outputs": [],
   "source": [
    "print(average.shape)"
   ]
  },
  {
   "cell_type": "code",
   "execution_count": null,
   "id": "97a8626c",
   "metadata": {},
   "outputs": [],
   "source": [
    "plt.imshow(average[56,:,:])"
   ]
  },
  {
   "cell_type": "code",
   "execution_count": 19,
   "id": "982962a9-ec38-4bda-91f0-72c04ed585a6",
   "metadata": {
    "tags": []
   },
   "outputs": [],
   "source": [
    "mrc = mrcfile.new(\"rough_avg.mrc\")\n",
    "mrc.set_data(average.numpy().astype(np.float32))\n",
    "mrc.close()"
   ]
  }
 ],
 "metadata": {
  "kernelspec": {
   "display_name": "envupdate",
   "language": "python",
   "name": "python3"
  },
  "language_info": {
   "codemirror_mode": {
    "name": "ipython",
    "version": 3
   },
   "file_extension": ".py",
   "mimetype": "text/x-python",
   "name": "python",
   "nbconvert_exporter": "python",
   "pygments_lexer": "ipython3",
   "version": "3.11.8"
  }
 },
 "nbformat": 4,
 "nbformat_minor": 5
}
