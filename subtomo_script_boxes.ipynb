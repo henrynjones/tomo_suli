{
 "cells": [
  {
   "cell_type": "markdown",
   "id": "04ee6e40-04ef-4e14-8b74-6883e689cd9a",
   "metadata": {},
   "source": [
    "### Subtomogram Alignment and Averaging"
   ]
  },
  {
   "cell_type": "code",
   "execution_count": null,
   "id": "1b2489a2-c485-4611-b863-4b2a83e0bb11",
   "metadata": {
    "tags": []
   },
   "outputs": [],
   "source": [
    "import numpy as np\n",
    "import torch\n",
    "import scipy\n",
    "import mrcfile\n",
    "import matplotlib.pyplot as plt"
   ]
  },
  {
   "cell_type": "code",
   "execution_count": null,
   "id": "eb51abcd-ea13-4355-be0b-f5e456e9037a",
   "metadata": {},
   "outputs": [],
   "source": [
    "\n",
    "\n",
    "#volumes = '/Users/HenryJones/Desktop/volume.mrc'\n",
    "#coordinates = '/Users/HenryJones/Desktop/SULI/ribo_coordinates.txt'\n",
    "\n",
    "volumes = '/Users/HenryJones/Desktop/SULI/gt_volume.mrc'\n",
    "coordinates = '/Users/HenryJones/Desktop/SULI/new_ribo_coordinates.txt'\n",
    "volume = torch.tensor(mrcfile.read(volumes))\n",
    "#coordinates are output centered in nm before magnification\n",
    "coords = torch.Tensor(np.genfromtxt(coordinates, skip_header = 2))\n"
   ]
  },
  {
   "cell_type": "code",
   "execution_count": null,
   "id": "a3d47ee6-4a66-474c-a2b9-297c2175cf02",
   "metadata": {
    "tags": []
   },
   "outputs": [],
   "source": [
    "plt.imshow(volume[25,:,:])"
   ]
  },
  {
   "cell_type": "code",
   "execution_count": 4,
   "id": "815a25ad-2d8d-4004-aaca-8a3c05ca0465",
   "metadata": {
    "tags": []
   },
   "outputs": [],
   "source": [
    "#make our rotation matrix\n",
    "def angles_to_matrix(angles: torch.Tensor)-> torch.Tensor:\n",
    "    assert angles.shape[0] == 3\n",
    "    phi   = angles[0] * torch.pi / 180\n",
    "    theta = angles[1] * torch.pi / 180\n",
    "    psi   = angles[2] * torch.pi / 180\n",
    "    \n",
    "    sinphi = torch.sin(phi)\n",
    "    cosphi = torch.cos(phi)\n",
    "    \n",
    "    sintheta = torch.sin(theta)\n",
    "    costheta = torch.cos(theta)\n",
    "    \n",
    "    sinpsi = torch.sin(psi)\n",
    "    cospsi = torch.cos(psi)\n",
    "    \n",
    "    r_mat = torch.Tensor([[cospsi * cosphi - (sinpsi * costheta * sinphi), \n",
    "                            - (cospsi * sinphi) - (sinpsi * costheta * cosphi),\n",
    "                            sinpsi * sintheta],\n",
    "                           [(sinpsi * cosphi) + (cospsi * costheta * sinphi),\n",
    "                            -(sinpsi * sinphi) + (cospsi * costheta * cosphi),\n",
    "                            - (cospsi * sintheta)],\n",
    "                           [sintheta * sinphi, sintheta * cosphi, costheta]])\n",
    "    return r_mat"
   ]
  },
  {
   "cell_type": "code",
   "execution_count": null,
   "id": "a8930037-10b5-4424-ba28-cd94d81a6808",
   "metadata": {
    "tags": []
   },
   "outputs": [],
   "source": [
    "def check_transpose(in_tensor: torch.Tensor, correct_shape: torch.Size):\n",
    "    if in_tensor.shape != correct_shape:\n",
    "        return torch.transpose(in_tensor, 0, 1)\n",
    "    return in_tensor\n",
    "\n",
    "def pick_particles(coords: torch.Tensor, correct_size):\n",
    "    #fits in in the detector\n",
    "    #solved an issue by checking z conditions in pixel units, could be better for x and y conditions too\n",
    "    first_mask = coords[((torch.abs(coords[:,0]) + ribosome_diameter) * factor <= correct_size[2]/2) \\\n",
    "                        & ((torch.abs(coords[:,1]) + ribosome_diameter) * factor <= correct_size[1]/2)\\\n",
    "                       & ((torch.abs(coords[:,2]) * z_factor) + ribo_pixel_radius <= correct_size[0]/2)] #radius for the z axis\n",
    "\n",
    "    second = first_mask[torch.sqrt(first_mask[:,0] **2 + first_mask[:,1] **2) < 600 -  ribosome_diameter]\n",
    "\n",
    "    upper_distance_matrix = torch.triu(torch.cdist(second[:,:3], second[:,:3], p=2) > ribosome_diameter)\n",
    "    final_mask = ((upper_distance_matrix + torch.transpose(upper_distance_matrix, 0, 1)).sum(dim = 0) == upper_distance_matrix.shape[0]-1)\n",
    "    coords = second[final_mask]\n",
    "    return coords\n",
    "\n",
    "def new_extract_subtomos(volume: torch.Tensor, picked_coordinates: torch.Tensor, factor, z_factor):\n",
    "    tensor_of_subtomos = np.empty(shape = int(picked_coordinates.shape[0]), dtype = object)\n",
    "    tensor_of_coords = torch.empty(size = (int(picked_coordinates.shape[0]),3))\n",
    "    #tensor_of_pixel_coords\n",
    "    for particle in range(int(picked_coordinates.shape[0])):\n",
    "        pixel_coord_float = torch.Tensor([picked_coordinates[particle,0] * factor + volume.shape[-1]/2,\n",
    "                                          picked_coordinates[particle,1] * factor + volume.shape[-2]/2,\n",
    "                                          picked_coordinates[particle,2] * z_factor + volume.shape[-3]/2])\n",
    "                                            #Don't need to reverse order of z axis like we do for the tomograms\n",
    "                                          #picked_coordinates[particle,2] * z_factor + volume.shape[-3]/2])\n",
    "                                         #volume.shape[-3] - (picked_coordinates[particle,2] * z_factor + volume.shape[-3]/2)]) #reverse the order of the z axis\n",
    "        \n",
    "        pixel_coord = torch.round(pixel_coord_float).int()\n",
    "        tensor_of_coords[particle] = pixel_coord_float\n",
    "\n",
    "        bounds = torch.Tensor([ [pixel_coord[2] - ribo_pixel_radius,   pixel_coord[2] + ribo_pixel_radius],\n",
    "                                [pixel_coord[1] - ribo_pixel_diameter, pixel_coord[1] + ribo_pixel_diameter],\n",
    "                                [pixel_coord[0] - ribo_pixel_diameter, pixel_coord[0] + ribo_pixel_diameter]]).int()\n",
    "        \n",
    "        below = torch.tensor(torch.where(bounds < 0, 1, 0))\n",
    "\n",
    "        above = torch.tensor(torch.where(bounds > torch.stack([torch.tensor(volume.shape),\n",
    "                                                  torch.tensor(volume.shape)]).T, 1, 0))\n",
    "        old_bounds = torch.abs(bounds * (below + above)) # element wise multiplication of EITHER mask, but will always be one or the other\n",
    "        pad_bounds = old_bounds[0,:]\n",
    "        pad_bounds[pad_bounds > volume.shape[0]-1] = pad_bounds[1] + 1 - volume.shape[0]\n",
    "        pad_bounds[pad_bounds < 0] = np.abs(pad_bounds[0])\n",
    "        #for slicing we need to adjust\n",
    "        bounds[(bounds < 0)] = 0\n",
    "        bounds[0,1][bounds[0,1] > volume.shape[0]] = volume.shape[0]\n",
    "        \n",
    "        #extract subtomo\n",
    "\n",
    "        tensor_of_subtomos[particle] = volume[int(bounds[0,0]) : int(bounds[0,1]) + 1,\n",
    "                                              int(bounds[1,0]) : int(bounds[1,1]) + 1,\n",
    "                                              int(bounds[2,0]) : int(bounds[2,1]) + 1]\n",
    "        \n",
    "        #pad z dimension if particle is within particle radius of volume face.\n",
    "        tensor_of_subtomos[particle] = torch.nn.functional.pad(tensor_of_subtomos[particle],\n",
    "                                                               (0,0,0,0, # by our selection we don't need x and y padding\n",
    "                                                                pad_bounds[0], #low z padding\n",
    "                                                                pad_bounds[1]), #high z padding\n",
    "                                                               mode = 'constant')\n",
    "        \n",
    "        if particle <= 2:\n",
    "            padded = torch.nn.functional.pad(tensor_of_subtomos[particle], (0,0,0,0, ribo_pixel_radius, ribo_pixel_radius), mode = 'constant', value = 0)\n",
    "\n",
    "            x = torch.linspace(start = - ribo_pixel_diameter, end = ribo_pixel_diameter, steps = padded.shape[0])\n",
    "            print(x)\n",
    "            meshgrid = torch.meshgrid(x,x,x, indexing = \"ij\")\n",
    "            mask = torch.where(torch.sqrt(meshgrid[0]**2 + meshgrid[1]**2 + meshgrid[2]**2) < ribo_pixel_radius, 1, 0)\n",
    "            mrc = mrcfile.new(f\"prerotate{particle}.mrc\")\n",
    "            mrc.set_data(padded.numpy().astype(np.float32) * mask.numpy().astype(np.float32))\n",
    "            mrc.close()\n",
    "\n",
    "    return tensor_of_subtomos, tensor_of_coords\n",
    "\n",
    "def new_meshgrid(subtomo_shape: torch.Size, particle_center: torch.Tensor) -> torch.meshgrid:\n",
    "    \"\"\"\n",
    "        should only have to worry about not being centered with z axis\n",
    "        Example of particle center is \n",
    "        \n",
    "        torch.Tensor([1809.6265, 1761.0503,   54.2631])\n",
    "    \"\"\"\n",
    "\n",
    "    center_diff = particle_center - torch.round(particle_center)\n",
    "    # best results with center dif 0 ,1 , 2\n",
    "    x = torch.linspace(start = - ribo_pixel_diameter, end = ribo_pixel_diameter, steps = subtomo_shape[2]) - center_diff[0]\n",
    "    y = torch.linspace(start = - ribo_pixel_diameter, end = ribo_pixel_diameter, steps = subtomo_shape[1]) - center_diff[1]\n",
    "    z = torch.linspace(start = - ribo_pixel_diameter, end = ribo_pixel_diameter, steps = subtomo_shape[0]) - center_diff[2]\n",
    "    \n",
    "    return torch.meshgrid(x, y, z, indexing = 'xy'), x, y, z\n",
    "\n",
    "\n",
    "def align_and_average(new_out, picked_coords, new_pixel_coords, ribo_pixel_radius):\n",
    "    i = 0\n",
    "    #loop over subtomograms, picked particle rotation angles, and updated interger pixel coordinates\n",
    "    average_size = ribo_pixel_radius * 2 + 1\n",
    "    average = torch.zeros((average_size, average_size, average_size))\n",
    "    for subtomo, angles, pixel_coord in zip(new_out, picked_coords[:, -3:], new_pixel_coords[:, :3]):\n",
    "\n",
    "        rmat = angles_to_matrix(angles)\n",
    "        #we have made extracted with shape (2 * ribo pixel diameter + 1, 2 * ribo pixel diameter +1 , 2 * ribo pixel radius +1)\n",
    "        #so now need to pad z axis to make it a cube\n",
    "        padded = torch.nn.functional.pad(subtomo, (0,0,0,0, ribo_pixel_radius, ribo_pixel_radius), mode = 'constant', value = 0)\n",
    "        meshgrid, x_linspace, y_linspace, z_linspace = new_meshgrid(padded.shape, pixel_coord) #picked_part[:3])\n",
    "        x = torch.flatten(meshgrid[0])\n",
    "        y = torch.flatten(meshgrid[1])\n",
    "        z = torch.flatten(meshgrid[2])\n",
    "        #before_rotation = torch.stack([x, y, z])\n",
    "        rotation = torch.matmul(rmat, torch.stack([z, y, x])) #z y x or x y z doesn't matter\n",
    "        center_diff = pixel_coord - torch.round(pixel_coord)\n",
    "        #rotation -= center_diff.unsqueeze(1)\n",
    "        #center_diff = pixel_coord - torch.round(pixel_coord)\n",
    "        assert padded.shape[0] == 2 * ribo_pixel_diameter + 1\n",
    "        assert padded.shape[1] == 2 * ribo_pixel_diameter + 1\n",
    "        assert padded.shape[2] == 2 * ribo_pixel_diameter + 1\n",
    "\n",
    "        in_grid_shape = torch.unflatten(rotation, dim = 1, sizes = (padded.shape[0],\n",
    "                                                        padded.shape[1],\n",
    "                                                        padded.shape[2]))[:,\n",
    "                                                                            int((padded.shape[0] - 1)/2 - ribo_pixel_radius):  int((padded.shape[0] - 1)/2 + ribo_pixel_radius) + 1, \n",
    "                                                                            int((padded.shape[1] - 1)/2 - ribo_pixel_radius):  int((padded.shape[1] - 1)/2 + ribo_pixel_radius) + 1,\n",
    "                                                                            int((padded.shape[2] - 1)/2 - ribo_pixel_radius):  int((padded.shape[2] - 1)/2 + ribo_pixel_radius) + 1]\n",
    "        data_w_coords = scipy.interpolate.RegularGridInterpolator((z_linspace.numpy(), y_linspace.numpy(), x_linspace.numpy()), padded.numpy())\n",
    "\n",
    "        #apply spherical mask, does it matter before or after interpolation and rotation?\n",
    "        mask = torch.where(torch.sqrt(in_grid_shape[0]**2 + in_grid_shape[1]**2 + in_grid_shape[2]**2) < ribo_pixel_radius, 1, 0)\n",
    "\n",
    "        # should be 2, 1, 0\n",
    "        interpolation = data_w_coords(((in_grid_shape[2]).numpy(),\n",
    "                                    (in_grid_shape[1]).numpy(),\n",
    "                                        (in_grid_shape[0]).numpy()))  * mask.numpy()\n",
    "        #plt.imshow(interpolation[interpolation.shape[0]//2,:,:])\n",
    "        #plt.scatter(pixel_coord[1], pixel_coord[2])\n",
    "        #plt.show()\n",
    "        mrc = mrcfile.new(f\"post_rotate{i}.mrc\")\n",
    "        mrc.set_data(interpolation.astype(np.float32))\n",
    "        mrc.close()\n",
    "\n",
    "        if i > 2:\n",
    "            break\n",
    "        #    raise ValueError\n",
    "        #mrc = mrcfile.new(f\"rotate_sample{i}.mrc\")\n",
    "        #mrc.set_data(interpolation.astype(np.float32))\n",
    "        #mrc.close()\n",
    "        i += 1\n",
    "        plt.imshow(interpolation[:,interpolation.shape[1]//2,:])\n",
    "        #plt.scatter(pixel_coord[1], pixel_coord[2]),:])\n",
    "        plt.show()\n",
    "        average = average + interpolation\n",
    "    average /= new_out.shape[0]\n",
    "    return average\n",
    "\n",
    "\n",
    "\"\"\"\n",
    "ARGS and inputs\n",
    "\n",
    "\"\"\"\n",
    "#80S ribosomes have diameters up to 300-320 A which is 30-32 nm\n",
    "#We know our tem simulator uses magnification \n",
    "#750000 with detector size 16000 nm\n",
    "magnification = 75000\n",
    "detector_size_nm = 16000\n",
    "#can get out of bounds with 8/1000\n",
    "ribosome_radius = int(np.around(volume.shape[1] * 15/1000)) * 2 #old dataset was for   # nm #15 worked for 1000 pixel width volume, so 9 for 600\n",
    "#factor = magnification / detector_size_nm /2\n",
    "#for now, with volume\n",
    "factor = 1\n",
    "ribosome_diameter = 2 * ribosome_radius\n",
    "ribo_pixel_radius = int(torch.round(torch.Tensor([factor * ribosome_radius])))\n",
    "ribo_pixel_diameter = 2 * ribo_pixel_radius\n",
    "print(ribo_pixel_radius, 'pixel_radius')\n",
    "print(ribosome_diameter + ribosome_radius, 'neighbor distance')\n",
    "#correct_size = torch.Size([200, 1000, 1000]) #z, y, x\n",
    "correct_size = volume.shape\n",
    "#z_factor = volume.shape[0] /(torch.abs(torch.min(coords[:,2])) + torch.max(coords[:,2]))\n",
    "z_factor = volume.shape[0] /72\n",
    "print(z_factor)\n",
    "#we only need to crop in the x and y planes\n",
    "def main():\n",
    "    picked_coords = pick_particles(coords, correct_size)\n",
    "    print(picked_coords.shape, \"picked coords\")\n",
    "    plt.imshow(volume[:,300,:])\n",
    "    plt.scatter(picked_coords[:,1] * factor + volume.shape[1]//2,\n",
    "                picked_coords[:,2] * z_factor + volume.shape[0]//2, s = 1, c = \"r\")\n",
    "    plt.show()\n",
    "    subtomos, new_pixel_coords = new_extract_subtomos(volume, picked_coords, factor, z_factor)\n",
    "\n",
    "    #print(\"Number of subtomograms:\", subtomos.shape[0])\n",
    "    #for i in range(3):\n",
    "    #    mrc = mrcfile.new(f\"checking{i}.mrc\")\n",
    "    #    mrc.set_data(subtomos[i].numpy().astype(np.float32))\n",
    "    #    mrc.close()\n",
    "    return align_and_average(subtomos, picked_coords = picked_coords, new_pixel_coords=new_pixel_coords, ribo_pixel_radius= ribo_pixel_radius)\n",
    "\n",
    "average = main()"
   ]
  },
  {
   "cell_type": "code",
   "execution_count": null,
   "id": "1916aa6d",
   "metadata": {},
   "outputs": [],
   "source": [
    "quick = torch.arange(3)\n",
    "quick1 = torch.arange(3) + 3\n",
    "quick2 = torch.arange(3) + 6\n",
    "print(torch.stack([quick, quick1, quick2]))"
   ]
  },
  {
   "cell_type": "markdown",
   "id": "a2921ade-7c7c-4858-986e-6348cce29e6a",
   "metadata": {},
   "source": [
    "## Image space alignment and averaging"
   ]
  },
  {
   "cell_type": "code",
   "execution_count": null,
   "id": "de97b68b",
   "metadata": {},
   "outputs": [],
   "source": [
    "print(torch.max(coords[:,0]))\n",
    "print(torch.max(coords[:,1]))\n",
    "print(torch.max(coords[:,2]))\n",
    "print(torch.min(coords[:,0]))\n",
    "print(torch.min(coords[:,1]))\n",
    "print(torch.min(coords[:,2]))\n",
    "print( 35.9860 + 36.1435)\n",
    "print(average.shape)"
   ]
  },
  {
   "cell_type": "code",
   "execution_count": null,
   "id": "4873c448",
   "metadata": {},
   "outputs": [],
   "source": [
    "plt.imshow(volume[25,:,:])"
   ]
  },
  {
   "cell_type": "code",
   "execution_count": null,
   "id": "98f50774",
   "metadata": {},
   "outputs": [],
   "source": [
    "plt.imshow(volume[:,:,500])"
   ]
  },
  {
   "cell_type": "code",
   "execution_count": null,
   "id": "36f7fa67",
   "metadata": {},
   "outputs": [],
   "source": [
    "mrc = mrcfile.new(\"dotted_volume.mrc\")\n",
    "mrc.set_data(volume.numpy().astype(np.float32))\n",
    "mrc.close()"
   ]
  },
  {
   "cell_type": "code",
   "execution_count": null,
   "id": "7bb9882d",
   "metadata": {},
   "outputs": [],
   "source": [
    "print(average.shape)"
   ]
  },
  {
   "cell_type": "code",
   "execution_count": null,
   "id": "97a8626c",
   "metadata": {},
   "outputs": [],
   "source": [
    "plt.imshow(average[17,:,:])"
   ]
  },
  {
   "cell_type": "code",
   "execution_count": 15,
   "id": "982962a9-ec38-4bda-91f0-72c04ed585a6",
   "metadata": {
    "tags": []
   },
   "outputs": [],
   "source": [
    "mrc = mrcfile.new(\"now_avg.mrc\")\n",
    "mrc.set_data(average.numpy().astype(np.float32))\n",
    "mrc.close()"
   ]
  },
  {
   "cell_type": "markdown",
   "id": "0f354028",
   "metadata": {},
   "source": [
    "## rotation check"
   ]
  },
  {
   "cell_type": "code",
   "execution_count": 17,
   "id": "d474d6e1",
   "metadata": {},
   "outputs": [],
   "source": [
    "sample0 = np.array(mrcfile.read(\"rotate_sample0.mrc\"))\n",
    "sample1 = np.array(mrcfile.read(\"rotate_sample1.mrc\"))\n",
    "sample2 = np.array(mrcfile.read(\"rotate_sample2.mrc\"))"
   ]
  },
  {
   "cell_type": "code",
   "execution_count": null,
   "id": "97a8be41",
   "metadata": {},
   "outputs": [],
   "source": [
    "plt.imshow(sample0[:,18,:])\n",
    "plt.show()\n",
    "plt.imshow(sample1[:,18,:])\n",
    "plt.show()\n",
    "plt.imshow(sample2[:,18,:])\n",
    "plt.show()"
   ]
  },
  {
   "cell_type": "code",
   "execution_count": null,
   "id": "ddeb9a23",
   "metadata": {},
   "outputs": [],
   "source": [
    "print(sample0.shape)"
   ]
  },
  {
   "cell_type": "code",
   "execution_count": 20,
   "id": "71f9f916",
   "metadata": {},
   "outputs": [],
   "source": [
    "picked_coords = pick_particles(coords, correct_size)"
   ]
  },
  {
   "cell_type": "code",
   "execution_count": null,
   "id": "fe5bdd58",
   "metadata": {},
   "outputs": [],
   "source": [
    "print(picked_coords.shape)"
   ]
  },
  {
   "cell_type": "code",
   "execution_count": 22,
   "id": "b5adb1a0",
   "metadata": {},
   "outputs": [],
   "source": [
    "padded0 = torch.nn.functional.pad(torch.tensor(sample0),\n",
    "                                    (18,18,18,18, # by our selection we don't need x and y padding\n",
    "                                    18, #low z padding\n",
    "                                    18), #high z padding\n",
    "                                    mode = 'constant')\n",
    "padded1 = torch.nn.functional.pad(torch.tensor(sample1),\n",
    "                                    (18,18,18,18, # by our selection we don't need x and y padding\n",
    "                                    18, #low z padding\n",
    "                                    18), #high z padding\n",
    "                                    mode = 'constant')\n",
    "\n",
    "padded2 = torch.nn.functional.pad(torch.tensor(sample2),\n",
    "                                    (18,18,18,18, # by our selection we don't need x and y padding\n",
    "                                    18, #low z padding\n",
    "                                    18), #high z padding\n",
    "                                    mode = 'constant')"
   ]
  },
  {
   "cell_type": "code",
   "execution_count": null,
   "id": "98caf3bb",
   "metadata": {},
   "outputs": [],
   "source": [
    "plt.imshow(padded0[:,36,:])\n",
    "plt.show()\n",
    "plt.imshow(padded1[:,36,:])\n",
    "plt.show()\n",
    "plt.imshow(padded2[:,36,:])\n",
    "plt.show()"
   ]
  },
  {
   "cell_type": "code",
   "execution_count": null,
   "id": "3bed1691",
   "metadata": {},
   "outputs": [],
   "source": [
    "axes = np.linspace(-36, 36, padded0.shape[0])\n",
    "print(axes)"
   ]
  },
  {
   "cell_type": "code",
   "execution_count": null,
   "id": "485f7b76",
   "metadata": {},
   "outputs": [],
   "source": [
    "print(axes[(axes.shape[0]-1)//2 - (axes.shape[0]-1)//4 : (axes.shape[0]-1)//2 + (axes.shape[0]-1)//4 + 1])"
   ]
  },
  {
   "cell_type": "code",
   "execution_count": null,
   "id": "30c52390",
   "metadata": {},
   "outputs": [],
   "source": [
    "cropped_axes = axes[(axes.shape[0]-1)//2 - (axes.shape[0]-1)//4 : (axes.shape[0]-1)//2 + (axes.shape[0]-1)//4 + 1]\n",
    "print(cropped_axes)"
   ]
  },
  {
   "cell_type": "code",
   "execution_count": 28,
   "id": "fa9c679f",
   "metadata": {},
   "outputs": [],
   "source": [
    "meshgrid = np.meshgrid(cropped_axes, cropped_axes, cropped_axes, indexing = \"ij\")"
   ]
  },
  {
   "cell_type": "code",
   "execution_count": null,
   "id": "0a91e483",
   "metadata": {},
   "outputs": [],
   "source": [
    "print(meshgrid[0].shape)"
   ]
  },
  {
   "cell_type": "code",
   "execution_count": 30,
   "id": "c7c2a4c5",
   "metadata": {},
   "outputs": [],
   "source": [
    "x = np.ravel(meshgrid[0])\n",
    "y = np.ravel(meshgrid[1])\n",
    "z = np.ravel(meshgrid[2])\n"
   ]
  },
  {
   "cell_type": "code",
   "execution_count": 38,
   "id": "ea02388a",
   "metadata": {},
   "outputs": [],
   "source": [
    "interp0 = scipy.interpolate.RegularGridInterpolator((axes, axes, axes), padded0.numpy())\n",
    "angles0 = picked_coords[0,-3:]\n",
    "rmat0 = angles_to_matrix(angles0)\n",
    "inverse_rmat0 = torch.linalg.inv(rmat0)#apply spherical mask, does it matter before or after interpolation and rotation?\n",
    "rotation0 = torch.matmul(inverse_rmat0, torch.stack([torch.tensor(z,dtype= torch.float32),\n",
    "                                                    torch.tensor(x, dtype = torch.float32),\n",
    "                                                    torch.tensor(y, dtype = torch.float32)])) # was z,y,x before nov 8\n",
    "grid_shape0 = torch.unflatten(rotation0, dim = 1, sizes= (sample0.shape[0], sample0.shape[1], sample0.shape[2]))\n",
    "interpolation0 = interp0((grid_shape0[0].numpy(),\n",
    "                            grid_shape0[1].numpy(),\n",
    "                               grid_shape0[2].numpy()))\n",
    "\n",
    "interp1 = scipy.interpolate.RegularGridInterpolator((axes, axes, axes), padded1.numpy())\n",
    "angles1 = picked_coords[1,-3:]\n",
    "rmat1 = angles_to_matrix(angles1)\n",
    "inverse_rmat1 = torch.linalg.inv(rmat1)#apply spherical mask, does it matter before or after interpolation and rotation?\n",
    "rotation1 = torch.matmul(inverse_rmat1, torch.stack([torch.tensor(z,dtype= torch.float32),\n",
    "                                                    torch.tensor(x, dtype = torch.float32),\n",
    "                                                    torch.tensor(y, dtype = torch.float32)])) # was z,y,x before nov 8\n",
    "grid_shape1 = torch.unflatten(rotation1, dim = 1, sizes= (sample0.shape[0], sample0.shape[1], sample0.shape[2]))\n",
    "interpolation1 = interp1((grid_shape1[0].numpy(),\n",
    "                            grid_shape1[1].numpy(),\n",
    "                               grid_shape1[2].numpy())) \n",
    "\n",
    "\n",
    "interp2 = scipy.interpolate.RegularGridInterpolator((axes, axes, axes), padded2.numpy())\n",
    "angles2 = picked_coords[2,-3:]\n",
    "rmat2 = angles_to_matrix(angles2)\n",
    "inverse_rmat2 = torch.linalg.inv(rmat2)#apply spherical mask, does it matter before or after interpolation and rotation?\n",
    "rotation2 = torch.matmul(inverse_rmat2, torch.stack([torch.tensor(z, dtype= torch.float32),\n",
    "                                                    torch.tensor(x, dtype = torch.float32),\n",
    "                                                    torch.tensor(y, dtype = torch.float32)])) # was z,y,x before nov 8\n",
    "grid_shape2 = torch.unflatten(rotation2, dim = 1, sizes= (sample0.shape[0], sample0.shape[1], sample0.shape[2]))\n",
    "interpolation2 = interp0((grid_shape2[0].numpy(),\n",
    "                            grid_shape2[1].numpy(),\n",
    "                               grid_shape2[2].numpy())) \n",
    "\n"
   ]
  },
  {
   "cell_type": "code",
   "execution_count": null,
   "id": "b061b340",
   "metadata": {},
   "outputs": [],
   "source": [
    "toybox = np.zeros_like(sample0)\n",
    "toybox[5:10, 5:10, 5:10] = np.arange(125).reshape(5,5,5)\n",
    "paddedtoy = torch.nn.functional.pad(torch.tensor(toybox),\n",
    "                                    (18,18,18,18, # by our selection we don't need x and y padding\n",
    "                                    18, #low z padding\n",
    "                                    18), #high z padding\n",
    "                                    mode = 'constant')\n",
    "interptoy = scipy.interpolate.RegularGridInterpolator((axes, axes, axes), paddedtoy.numpy())\n",
    "rotationtoy = torch.matmul(rmat0, torch.stack([torch.tensor(x, dtype= torch.float32),\n",
    "                                                    torch.tensor(y, dtype = torch.float32),\n",
    "                                                    torch.tensor(z, dtype = torch.float32)])) # was z,y,x before nov 8\n",
    "gridtoy = torch.unflatten(rotationtoy, dim = 1, sizes= (sample0.shape[0], sample0.shape[1], sample0.shape[2]))\n",
    "print(gridtoy.shape)\n",
    "interpolationtoy = interptoy((gridtoy[0].numpy(),\n",
    "                            gridtoy[1].numpy(),\n",
    "                               gridtoy[2].numpy())) \n"
   ]
  },
  {
   "cell_type": "code",
   "execution_count": null,
   "id": "923112f8",
   "metadata": {},
   "outputs": [],
   "source": [
    "paddedtoyi = torch.nn.functional.pad(torch.tensor(interpolationtoy),\n",
    "                                    (18,18,18,18, # by our selection we don't need x and y padding\n",
    "                                    18, #low z padding\n",
    "                                    18), #high z padding\n",
    "                                    mode = 'constant')\n",
    "interptoyi = scipy.interpolate.RegularGridInterpolator((axes, axes, axes), paddedtoyi.numpy())\n",
    "rotationtoyi = torch.matmul(inverse_rmat0, torch.stack([torch.tensor(x, dtype= torch.float32),\n",
    "                                                    torch.tensor(y, dtype = torch.float32),\n",
    "                                                    torch.tensor(z, dtype = torch.float32)])) # was z,y,x before nov 8\n",
    "gridtoyi = torch.unflatten(rotationtoyi, dim = 1, sizes= (sample0.shape[0], sample0.shape[1], sample0.shape[2]))\n",
    "print(gridtoy.shape)\n",
    "interpolationtoyi = interptoyi((gridtoyi[0].numpy(),\n",
    "                            gridtoyi[1].numpy(),\n",
    "                               gridtoyi[2].numpy())) 0"
   ]
  },
  {
   "cell_type": "code",
   "execution_count": null,
   "id": "c0b7ca07",
   "metadata": {},
   "outputs": [],
   "source": [
    "print(picked_coords[0,-3:])"
   ]
  },
  {
   "cell_type": "code",
   "execution_count": null,
   "id": "40caeca4",
   "metadata": {},
   "outputs": [],
   "source": [
    "plt.imshow(toybox[:,7,:])\n",
    "plt.show()\n",
    "plt.imshow(interpolationtoy[:,10,:])\n",
    "plt.show()\n",
    "plt.imshow(interpolationtoyi[:,7,:])\n",
    "plt.show()"
   ]
  },
  {
   "cell_type": "code",
   "execution_count": null,
   "id": "45c286c6",
   "metadata": {},
   "outputs": [],
   "source": [
    "plt.imshow(interpolation0[:, interpolation0.shape[1]//2,:])\n",
    "plt.show()\n",
    "plt.imshow(interpolation1[:, interpolation1.shape[1]//2,:])\n",
    "plt.show()\n",
    "plt.imshow(interpolation2[:, interpolation2.shape[1]//2,:])\n",
    "plt.show()"
   ]
  }
 ],
 "metadata": {
  "kernelspec": {
   "display_name": "envupdate",
   "language": "python",
   "name": "python3"
  },
  "language_info": {
   "codemirror_mode": {
    "name": "ipython",
    "version": 3
   },
   "file_extension": ".py",
   "mimetype": "text/x-python",
   "name": "python",
   "nbconvert_exporter": "python",
   "pygments_lexer": "ipython3",
   "version": "3.11.8"
  }
 },
 "nbformat": 4,
 "nbformat_minor": 5
}
